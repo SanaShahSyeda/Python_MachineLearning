{
 "cells": [
  {
   "cell_type": "code",
   "execution_count": 21,
   "id": "d6dd221f",
   "metadata": {},
   "outputs": [
    {
     "name": "stdout",
     "output_type": "stream",
     "text": [
      "25\n",
      "36\n",
      "20\n",
      "30\n",
      "[['Tomatoes', 'Holland', 1], ['Potatoes', 'Hungary', 0], ['Peaches', 'Scotland', 6]]\n",
      "[['Potatoes', 'Hungary', 0], ['Tomatoes', 'Holland', 1], ['Peaches', 'Scotland', 6]]\n",
      "120.08333333333333\n",
      "45.5\n",
      "236.60038684574369\n",
      "ModeResult(mode=array([11]), count=array([1]))\n"
     ]
    }
   ],
   "source": [
    "# lambda\n",
    "x = lambda a: a + 20\n",
    "print(x(5))\n",
    "x = lambda a: a * 6\n",
    "print(x(6))\n",
    "\n",
    "def myfunc(m):\n",
    "    return lambda a : a * m\n",
    "mydoubler= myfunc(2)\n",
    "mytripler= myfunc(3)\n",
    "print(mydoubler(10))\n",
    "print(mytripler(10))\n",
    "\n",
    "# 2D List sorting\n",
    "mylist =[['Tomatoes','Holland', 1], ['Potatoes','Hungary',0],['Peaches','Scotland',6]]\n",
    "print(mylist)\n",
    "mylist.sort(key=lambda y:y[2], reverse=False)\n",
    "print(mylist)\n",
    "\n",
    "# numpy\n",
    "import numpy\n",
    "speed=[22,898,23,56,76,21,45,90,121,11,32,46]\n",
    "x = numpy.mean(speed)\n",
    "print(x)\n",
    "x = numpy.median(speed)\n",
    "print(x)\n",
    "x = numpy.std(speed)\n",
    "print(x)\n",
    "\n",
    "from scipy import stats\n",
    "speed=[22,898,23,56,76,21,45,90,121,11,32,46]\n",
    "x = stats.mode(speed, keepdims=True)\n",
    "print(x)"
   ]
  }
 ],
 "metadata": {
  "kernelspec": {
   "display_name": "Python 3 (ipykernel)",
   "language": "python",
   "name": "python3"
  },
  "language_info": {
   "codemirror_mode": {
    "name": "ipython",
    "version": 3
   },
   "file_extension": ".py",
   "mimetype": "text/x-python",
   "name": "python",
   "nbconvert_exporter": "python",
   "pygments_lexer": "ipython3",
   "version": "3.11.4"
  }
 },
 "nbformat": 4,
 "nbformat_minor": 5
}
