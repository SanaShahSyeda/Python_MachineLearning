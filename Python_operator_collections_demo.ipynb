{
 "cells": [
  {
   "cell_type": "code",
   "execution_count": 1,
   "id": "fa30ae87",
   "metadata": {},
   "outputs": [
    {
     "name": "stdout",
     "output_type": "stream",
     "text": [
      "True\n"
     ]
    }
   ],
   "source": [
    "# AI-LAB-02-Practise\n",
    "x=10\n",
    "print(isinstance(x,int))\n"
   ]
  },
  {
   "cell_type": "code",
   "execution_count": 4,
   "id": "c2c18a3a",
   "metadata": {},
   "outputs": [
    {
     "name": "stdout",
     "output_type": "stream",
     "text": [
      "6.666666666666667\n",
      "6\n",
      "2\n"
     ]
    }
   ],
   "source": [
    "x=20\n",
    "y=3\n",
    "print(x/y)\n",
    "print(x//y)\n",
    "print(x%y)"
   ]
  },
  {
   "cell_type": "code",
   "execution_count": 5,
   "id": "d61f42cc",
   "metadata": {},
   "outputs": [
    {
     "name": "stdout",
     "output_type": "stream",
     "text": [
      "64\n",
      "250\n"
     ]
    }
   ],
   "source": [
    "print(2 << 5)\n",
    "print(1000 >> 2)"
   ]
  },
  {
   "cell_type": "code",
   "execution_count": 6,
   "id": "90849693",
   "metadata": {},
   "outputs": [
    {
     "name": "stdout",
     "output_type": "stream",
     "text": [
      "False\n",
      "True\n"
     ]
    }
   ],
   "source": [
    "x=['abc', 'def']\n",
    "y=['abc','def']\n",
    "z=x\n",
    "print(x is y)\n",
    "print(z is x)"
   ]
  },
  {
   "cell_type": "code",
   "execution_count": 8,
   "id": "e6f3955c",
   "metadata": {},
   "outputs": [
    {
     "name": "stdout",
     "output_type": "stream",
     "text": [
      "False\n",
      "True\n"
     ]
    }
   ],
   "source": [
    "x=['pineapple', 'banana']\n",
    "print('apple' in x)\n",
    "print('banana' in x)"
   ]
  },
  {
   "cell_type": "code",
   "execution_count": 20,
   "id": "d8f67378",
   "metadata": {},
   "outputs": [
    {
     "name": "stdout",
     "output_type": "stream",
     "text": [
      "['harrry potter', 'Iron man', 'Narnia', 'War of the worlds', 'Mission Impossible', 'The pursuit of happiness', 'Shawshank Redemption']\n",
      "7\n",
      "['Narnia', 'War of the worlds']\n",
      "['War of the worlds']\n",
      "['harrry potter', 'Iron man', 'Narnia']\n",
      "['War of the worlds', 'Mission Impossible', 'The pursuit of happiness', 'Shawshank Redemption']\n",
      "No, Lucy is not in the list --- !!\n"
     ]
    }
   ],
   "source": [
    "# List\n",
    "movies=['harrry potter', 'Iron man', 'Narnia','War of the worlds',\n",
    "        'Mission Impossible','The pursuit of happiness', 'Shawshank Redemption']\n",
    "print(movies)\n",
    "print(len(movies))\n",
    "print(movies[2:4])\n",
    "print(movies[-4:-3])\n",
    "print(movies[:3])\n",
    "print(movies[3:])\n",
    "if 'Lucy' not in movies:\n",
    "    print(\"No, Lucy is not in the list --- !!\")"
   ]
  },
  {
   "cell_type": "code",
   "execution_count": 24,
   "id": "a57f72c2",
   "metadata": {},
   "outputs": [
    {
     "name": "stdout",
     "output_type": "stream",
     "text": [
      "['harrry potter', 'Iron man', 'Narnia', 'War of the worlds', 'Mission Impossible', 'The pursuit of happiness', 'Shawshank Redemption']\n",
      "['harrry potter', 'Iron man', 'Narnia', 'War of the worlds', 'Mission Impossible', 'Squid Game', 'Shawshank Redemption']\n",
      "['harrry potter', 'Iron man', 'Dr.Strange', 'Pirates of Carribean', 'Mission Impossible', 'Squid Game', 'Shawshank Redemption']\n"
     ]
    }
   ],
   "source": [
    "# changing List item values\n",
    "movies=['harrry potter', 'Iron man', 'Narnia','War of the worlds',\n",
    "        'Mission Impossible','The pursuit of happiness', 'Shawshank Redemption']\n",
    "print(movies)\n",
    "movies[5]='Squid Game'\n",
    "print(movies)\n",
    "movies[2:4]=['Dr.Strange','Pirates of Carribean']\n",
    "print(movies)"
   ]
  },
  {
   "cell_type": "code",
   "execution_count": 29,
   "id": "bf7988d9",
   "metadata": {},
   "outputs": [
    {
     "name": "stdout",
     "output_type": "stream",
     "text": [
      "['harrry potter', 'Iron man', 'Narnia', 'War of the worlds', 'Mission Impossible', 'The pursuit of happiness', 'Shawshank Redemption']\n",
      "['harrry potter', 'Iron man', 'Narnia', 'War of the worlds', 'The pursuit of happiness', 'Shawshank Redemption']\n",
      "['harrry potter', 'Iron man', 'MissionImpossible', 'Narnia', 'War of the worlds', 'The pursuit of happiness', 'Shawshank Redemption']\n"
     ]
    }
   ],
   "source": [
    "# changing List item values\n",
    "movies=['harrry potter', 'Iron man', 'Narnia','War of the worlds',\n",
    "        'Mission Impossible','The pursuit of happiness', 'Shawshank Redemption']\n",
    "print(movies)\n",
    "movies.remove('Mission Impossible')\n",
    "print(movies)\n",
    "movies.insert(2,'MissionImpossible')\n",
    "print(movies)"
   ]
  },
  {
   "cell_type": "code",
   "execution_count": 32,
   "id": "b06079df",
   "metadata": {},
   "outputs": [
    {
     "name": "stdout",
     "output_type": "stream",
     "text": [
      "harrry potter\n",
      "Iron man\n",
      "Narnia\n",
      "War of the worlds\n",
      "Mission Impossible\n",
      "The pursuit of happiness\n",
      "Shawshank Redemption\n",
      "After sorting & reversing -------->>\n",
      "harrry potter\n",
      "War of the worlds\n",
      "The pursuit of happiness\n",
      "Shawshank Redemption\n",
      "Narnia\n",
      "Mission Impossible\n",
      "Iron man\n"
     ]
    },
    {
     "data": {
      "text/plain": [
       "[None, None, None, None, None, None, None]"
      ]
     },
     "execution_count": 32,
     "metadata": {},
     "output_type": "execute_result"
    }
   ],
   "source": [
    "# List comprehension\n",
    "movies=['harrry potter', 'Iron man', 'Narnia','War of the worlds',\n",
    "        'Mission Impossible','The pursuit of happiness', 'Shawshank Redemption']\n",
    "[print(x) for x in movies]\n",
    "movies.sort(reverse=True)\n",
    "print('After sorting & reversing -------->>')\n",
    "[print(x) for x in movies]"
   ]
  },
  {
   "cell_type": "code",
   "execution_count": 36,
   "id": "1ae2e407",
   "metadata": {},
   "outputs": [
    {
     "name": "stdout",
     "output_type": "stream",
     "text": [
      "['harrry potter', 'Iron man', 'Narnia', 'War of the worlds', 'Mission Impossible', 'The pursuit of happiness', 'Shawshank Redemption']\n",
      "-------------------------------\n",
      "\n",
      "['harrry potter', 'Narnia', 'War of the worlds', 'Mission Impossible', 'The pursuit of happiness', 'Shawshank Redemption']\n",
      "['harrry potter', 'Narnia', 'War of the worlds', 'Mission Impossible', 'The pursuit of happiness', 'Shawshank Redemption']\n"
     ]
    }
   ],
   "source": [
    "movies=['harrry potter', 'Iron man', 'Narnia','War of the worlds',\n",
    "        'Mission Impossible','The pursuit of happiness', 'Shawshank Redemption']\n",
    "movies2=list(movies)\n",
    "movies3=movies2\n",
    "print(movies)\n",
    "movies2.pop(1)\n",
    "print(\"-------------------------------\\n\")\n",
    "print(movies3)\n",
    "print(movies2)"
   ]
  }
 ],
 "metadata": {
  "kernelspec": {
   "display_name": "Python 3 (ipykernel)",
   "language": "python",
   "name": "python3"
  },
  "language_info": {
   "codemirror_mode": {
    "name": "ipython",
    "version": 3
   },
   "file_extension": ".py",
   "mimetype": "text/x-python",
   "name": "python",
   "nbconvert_exporter": "python",
   "pygments_lexer": "ipython3",
   "version": "3.11.3"
  }
 },
 "nbformat": 4,
 "nbformat_minor": 5
}
