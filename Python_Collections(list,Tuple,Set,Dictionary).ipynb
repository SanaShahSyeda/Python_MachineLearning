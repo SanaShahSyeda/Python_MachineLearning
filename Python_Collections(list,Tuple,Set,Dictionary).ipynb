{
 "cells": [
  {
   "cell_type": "code",
   "execution_count": 6,
   "id": "4f7572a1",
   "metadata": {},
   "outputs": [
    {
     "name": "stdout",
     "output_type": "stream",
     "text": [
      "['Orange', 'Banana', 'Mango', 'Guava']\n",
      "['Grapes', 'Banana', 'Mango', 'Guava']\n",
      "['Grapes', 'Banana', 'Mango', 'Guava', 'apple']\n",
      "['Grapes', 'Banana', 'kiwi', 'Mango', 'Guava', 'apple']\n",
      "['Mango', 'Guava', 'apple']\n",
      "['Grapes', 'Banana', 'kiwi', 'Guava', 'apple']\n",
      "['apple', 'Guava', 'kiwi', 'Banana', 'Grapes']\n"
     ]
    }
   ],
   "source": [
    "# List tasks\n",
    "\n",
    "#Task1\n",
    "l1_fruits=['Orange','Banana','Mango','Guava' ]\n",
    "print(l1_fruits)\n",
    "\n",
    "#Task2\n",
    "l1_fruits[0]='Grapes'\n",
    "print(l1_fruits)\n",
    "\n",
    "#Task3\n",
    "l1_fruits.append('apple')\n",
    "print(l1_fruits)\n",
    "\n",
    "#Task3\n",
    "l1_fruits.insert(2,'kiwi')\n",
    "print(l1_fruits)\n",
    "\n",
    "#Task4\n",
    "print(l1_fruits[-3:])\n",
    "\n",
    "#Task5\n",
    "l1_fruits.remove('Mango')\n",
    "print(l1_fruits)\n",
    "\n",
    "#Task6\n",
    "l1_fruits.reverse()\n",
    "print(l1_fruits)"
   ]
  },
  {
   "cell_type": "code",
   "execution_count": 33,
   "id": "dfd8f357",
   "metadata": {},
   "outputs": [
    {
     "name": "stdout",
     "output_type": "stream",
     "text": [
      "()\n",
      "1\n",
      "<class 'tuple'>\n",
      "('banana', 'orange', 'pineapple', 'watermelon', 'strawberry', 'Grapes')\n",
      "Grapes\n",
      "('watermelon', 'strawberry', 'Grapes')\n",
      "banana\n",
      "orange\n",
      "pineapple\n",
      "watermelon\n",
      "strawberry\n",
      "Grapes\n",
      "('banana', 'orange', 'pineapple', 'watermelon', 'strawberry', 'Grapes')\n",
      "3\n"
     ]
    }
   ],
   "source": [
    "# Tuple tasks\n",
    "\n",
    "#Task1\n",
    "T1_Fruits=()\n",
    "print(T1_Fruits)\n",
    "\n",
    "#Task2\n",
    "T2_Fruits=('banana',)\n",
    "print(len(T2_Fruits))\n",
    "print(type(T2_Fruits))\n",
    "\n",
    "#Task3\n",
    "T2_Fruits= T2_Fruits + ('orange','pineapple','watermelon','strawberry','Grapes')\n",
    "print(T2_Fruits)\n",
    "\n",
    "#Task4\n",
    "print(T2_Fruits[-1])\n",
    "\n",
    "#Task5\n",
    "print(T2_Fruits[3:])\n",
    "\n",
    "#Task6\n",
    "for x in T2_Fruits:\n",
    "    print(x)\n",
    "\n",
    "#Task7\n",
    "temp =list(T2_Fruits)\n",
    "temp.pop(0)\n",
    "print(T2_Fruits)\n",
    "\n",
    "#Task8\n",
    "T3_Numbers=[1,2,3,1,5,6,1,7,8]\n",
    "count= T3_Numbers.count(1)\n",
    "print(count)"
   ]
  },
  {
   "cell_type": "code",
   "execution_count": 37,
   "id": "edc6563e",
   "metadata": {},
   "outputs": [
    {
     "name": "stdout",
     "output_type": "stream",
     "text": [
      "{'Orange', 'Mango', 'Banana', 'Guava'}\n",
      "{'Banana', 'Guava', 'Orange', 'apple', 'Mango'}\n",
      "{'Banana', 'Guava', 'apple', 'Mango'}\n"
     ]
    }
   ],
   "source": [
    "# Set tasks\n",
    "\n",
    "#Task1\n",
    "S1_fruits={'Orange','Banana','Mango','Guava'}\n",
    "print(S1_fruits)\n",
    "\n",
    "#Task2\n",
    "S1_fruits.add('apple')\n",
    "print(S1_fruits)\n",
    "\n",
    "#Task3\n",
    "S1_fruits.remove('Orange')\n",
    "print(S1_fruits)"
   ]
  },
  {
   "cell_type": "code",
   "execution_count": 46,
   "id": "4570310c",
   "metadata": {},
   "outputs": [
    {
     "name": "stdout",
     "output_type": "stream",
     "text": [
      "newyork\n",
      "01-556\n",
      "newyork\n",
      "jane\n",
      "01-556\n",
      "newyork\n",
      "20\n"
     ]
    }
   ],
   "source": [
    "# Dictionary tasks\n",
    "\n",
    "#Task1\n",
    "dict= {\n",
    "    \"name\": 'jane',\n",
    "    \"cms\": '01-556',\n",
    "    \"city\": 'newyork'\n",
    "}\n",
    "\n",
    "#Task2\n",
    "x= dict.get('city')\n",
    "print(x)\n",
    "\n",
    "#Task3\n",
    "print(dict['cms'])\n",
    "print(dict['city'])\n",
    "\n",
    "#Task4\n",
    "dict.update({'age':20})\n",
    "for x in dict:\n",
    "    print(dict[x])"
   ]
  }
 ],
 "metadata": {
  "kernelspec": {
   "display_name": "Python 3 (ipykernel)",
   "language": "python",
   "name": "python3"
  },
  "language_info": {
   "codemirror_mode": {
    "name": "ipython",
    "version": 3
   },
   "file_extension": ".py",
   "mimetype": "text/x-python",
   "name": "python",
   "nbconvert_exporter": "python",
   "pygments_lexer": "ipython3",
   "version": "3.11.3"
  }
 },
 "nbformat": 4,
 "nbformat_minor": 5
}
